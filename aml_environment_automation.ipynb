{
 "cells": [
  {
   "cell_type": "code",
   "execution_count": 1,
   "metadata": {},
   "outputs": [
    {
     "name": "stdout",
     "output_type": "stream",
     "text": [
      "Ready to use Azure ML 1.35.0\n"
     ]
    }
   ],
   "source": [
    "import azureml.core\n",
    "\n",
    "print(\"Ready to use Azure ML\", azureml.core.VERSION)"
   ]
  },
  {
   "cell_type": "code",
   "execution_count": 2,
   "metadata": {},
   "outputs": [
    {
     "name": "stderr",
     "output_type": "stream",
     "text": [
      "UserWarning: The resource group doesn't exist or was not provided. AzureML SDK is creating a resource group=mslearn in location=brazilsouth using subscription=5b45501d-8bb8-4858-a41a-4d097404b85f.\n"
     ]
    },
    {
     "name": "stdout",
     "output_type": "stream",
     "text": [
      "Deploying StorageAccount with name mslearnmstorage97850ed76.\n",
      "Deploying KeyVault with name mslearnmkeyvault0592c0de.\n",
      "Deploying AppInsights with name mslearnminsights3708baf7.\n",
      "Deployed AppInsights with name mslearnminsights3708baf7. Took 4.91 seconds.\n",
      "Deployed KeyVault with name mslearnmkeyvault0592c0de. Took 21.93 seconds.\n",
      "Deploying Workspace with name mslearn-mlworkspace.\n",
      "Deployed StorageAccount with name mslearnmstorage97850ed76. Took 25.85 seconds.\n",
      "Deployed Workspace with name mslearn-mlworkspace. Took 37.95 seconds.\n"
     ]
    }
   ],
   "source": [
    "from azureml.core import Workspace    \n",
    "ws = Workspace.create(name='mslearn-mlworkspace', \n",
    "                      subscription_id='5b45501d-8bb8-4858-a41a-4d097404b85f',\n",
    "                      resource_group='mslearn',\n",
    "                      create_resource_group=True,\n",
    "                      location='Brazil South'\n",
    "                     )"
   ]
  },
  {
   "cell_type": "code",
   "execution_count": 4,
   "metadata": {},
   "outputs": [
    {
     "name": "stdout",
     "output_type": "stream",
     "text": [
      "InProgress....\n",
      "SucceededProvisioning operation finished, operation \"Succeeded\"\n",
      "Succeeded\n",
      "AmlCompute wait for completion finished\n",
      "\n",
      "Minimum number of nodes requested have been provisioned\n"
     ]
    }
   ],
   "source": [
    "from azureml.core.compute import ComputeTarget, AmlCompute\n",
    "from azureml.core.compute_target import ComputeTargetException\n",
    "\n",
    "cluster_name = \"amlcc\"\n",
    "\n",
    "try:\n",
    "    # Check for existing compute target\n",
    "    training_cluster = ComputeTarget(workspace=ws, name=cluster_name)\n",
    "    print('Found existing cluster, use it.')\n",
    "except ComputeTargetException:\n",
    "    # If it doesn't already exist, create it\n",
    "    try:\n",
    "        compute_config = AmlCompute.provisioning_configuration(vm_priority='lowpriority', \n",
    "                                                                vm_size='STANDARD_DS11_V2', \n",
    "                                                                max_nodes=2, \n",
    "                                                                idle_seconds_before_scaledown=120)\n",
    "        training_cluster = ComputeTarget.create(ws, cluster_name, compute_config)\n",
    "        training_cluster.wait_for_completion(show_output=True)\n",
    "    except Exception as ex:\n",
    "        print(ex)"
   ]
  },
  {
   "cell_type": "code",
   "execution_count": null,
   "metadata": {},
   "outputs": [],
   "source": []
  }
 ],
 "metadata": {
  "interpreter": {
   "hash": "4c6d3e8ef0f54d081160a6bd36a350639c408f65dc2bbc85d9bb178f998236cf"
  },
  "kernelspec": {
   "display_name": "Python 3.8.12 64-bit ('mslearn': conda)",
   "name": "python3"
  },
  "language_info": {
   "codemirror_mode": {
    "name": "ipython",
    "version": 3
   },
   "file_extension": ".py",
   "mimetype": "text/x-python",
   "name": "python",
   "nbconvert_exporter": "python",
   "pygments_lexer": "ipython3",
   "version": "3.8.12"
  },
  "orig_nbformat": 4
 },
 "nbformat": 4,
 "nbformat_minor": 2
}
